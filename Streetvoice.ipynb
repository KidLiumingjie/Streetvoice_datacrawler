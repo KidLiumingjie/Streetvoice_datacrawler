{
  "nbformat": 4,
  "nbformat_minor": 0,
  "metadata": {
    "colab": {
      "provenance": []
    },
    "kernelspec": {
      "name": "python3",
      "display_name": "Python 3"
    },
    "language_info": {
      "name": "python"
    }
  },
  "cells": [
    {
      "cell_type": "code",
      "source": [
        "import requests\n",
        "import json\n",
        "\n",
        "# 取得播放清單資料\n",
        "playlist_url = 'https://streetvoice.com/api/v5/playlist/857174/'\n",
        "response = requests.get(playlist_url)\n",
        "data = json.loads(response.text)\n",
        "public_song_ids = data[\"public_song_ids\"]\n",
        "\n",
        "# 逐個爬取歌詞並輸出排名、歌曲名稱、作者和歌詞\n",
        "for rank, song_id in enumerate(public_song_ids, start=1):\n",
        "    song_url = f\"https://streetvoice.com/api/v5/song/{song_id}/\"\n",
        "    song_response = requests.get(song_url)\n",
        "    song_data = json.loads(song_response.text)\n",
        "    \n",
        "    song_name = song_data[\"name\"]\n",
        "    lyrics = song_data[\"lyrics\"]\n",
        "    nickname = song_data[\"user\"][\"profile\"][\"nickname\"]\n",
        "    \n",
        "    # 輸出排名\n",
        "    print(\"排名:\", rank)\n",
        "    \n",
        "    # 輸出歌曲名稱\n",
        "    print(\"歌曲名稱:\", song_name)\n",
        "    \n",
        "    # 輸出作者\n",
        "    print(\"作者:\", nickname)\n",
        "    \n",
        "    # 輸出歌詞\n",
        "    print(\"歌詞:\")\n",
        "    print(lyrics.replace(\"\\\\n\", \"\\n\"))\n",
        "    \n",
        "    # 輸出分隔符號，方便區分不同歌曲\n",
        "    print(\"=\" * 30)\n",
        "\n"
      ],
      "metadata": {
        "id": "M8rbmb7ahwue"
      },
      "execution_count": null,
      "outputs": []
    }
  ]
}